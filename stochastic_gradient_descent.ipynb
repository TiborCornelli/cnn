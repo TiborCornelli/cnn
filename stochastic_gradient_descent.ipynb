{
 "cells": [
  {
   "cell_type": "code",
   "execution_count": 2,
   "metadata": {},
   "outputs": [],
   "source": [
    "import numpy as np\n",
    "import random\n",
    "from matplotlib import pyplot as plt\n",
    "\n",
    "# Train data\n",
    "data = [[2, 1, 0], \n",
    "        [3, 1, 0], \n",
    "        [2, 3, 0], \n",
    "        [2, 0.5, 0], \n",
    "        [1, 1, 0],\n",
    "        [1,2,0],\n",
    "        [0.2,0.2,0],\n",
    "        [2.5,4,1],\n",
    "        [3, 1.5, 1], \n",
    "        [3.5, 0.5, 1], \n",
    "        [4, 1.5, 1],\n",
    "        [2.5,3,1],\n",
    "        [2.8,2,1],\n",
    "        [4,3,1],\n",
    "        [5.5, 1, 1]\n",
    "       ]\n",
    "\n",
    "test_data = [[2,5,1],\n",
    "             [3.2, 1.2, 1],\n",
    "             [3, 0.5, 1],\n",
    "             [5, 5, 1],\n",
    "             [2.5,5,1],\n",
    "             [2.8,2,1],\n",
    "             [5,1,1]\n",
    "            ]\n",
    "\n",
    "\n",
    "# Aktivation function\n",
    "def sigmoid(x):\n",
    "    return 1/(1+np.exp(-x))\n",
    "\n",
    "\n",
    "def graphs():\n",
    "    cost_lst = train()['costs']\n",
    "    plt.plot(cost_lst, color = 'red')\n",
    "    plt.title('Costs per prediction')\n",
    "    \n",
    "    plt.figure()\n",
    "    plt.title('Data points')\n",
    "    plt.axis([0,6,0,6])\n",
    "    plt.grid()\n",
    "    for i in range(len(data)):\n",
    "        data_point = data[i]\n",
    "        color = 'r'\n",
    "        if data_point[2] == 0:\n",
    "            color = 'b'\n",
    "        plt.scatter(data_point[0], data_point[1], c = color)"
   ]
  },
  {
   "cell_type": "code",
   "execution_count": 3,
   "metadata": {},
   "outputs": [],
   "source": [
    "def train(epochs = 50000):\n",
    "    \n",
    "    learning_rate = 0.6\n",
    "    costs = []\n",
    "    \n",
    "    # Initializing weights and bias\n",
    "    w1 = random.uniform(-0.1,0.1)\n",
    "    w2 = random.uniform(-0.1,0.1)\n",
    "    b = random.uniform(-0.1,0.1)\n",
    "    \n",
    "    for i in range(epochs):\n",
    "        \n",
    "        # Batch size: 1\n",
    "        point = random.choice(data)\n",
    "        target = point[2]\n",
    "        \n",
    "        z = w1 * point[0] + w2 * point[1] + b\n",
    "        pred = sigmoid(z)\n",
    "        \n",
    "        cost = (pred-target)**2\n",
    "        dcost_dpred = 2 * (pred-target)\n",
    "        dpred_dz = sigmoid(z) * (1-sigmoid(z))\n",
    "        \n",
    "        dz_dw1 = point[0]\n",
    "        dz_dw2 = point[1]\n",
    "        dz_db = 1\n",
    "        \n",
    "        dcost_dw1 = dcost_dpred * dpred_dz * dz_dw1\n",
    "        dcost_dw2 = dcost_dpred * dpred_dz * dz_dw2\n",
    "        dcost_db = dcost_dpred * dpred_dz\n",
    "        \n",
    "        costs.append(cost)\n",
    "        w1 -= learning_rate * dcost_dw1\n",
    "        w2 -= learning_rate * dcost_dw2\n",
    "        b -= learning_rate * dcost_db\n",
    "\n",
    "    diff = 0\n",
    "    for point1 in data:\n",
    "        diff += abs(sigmoid(w1 * point1[0] + w2 * point1[1] + b) - point1[2])\n",
    "    diff /= len(data)\n",
    "    \n",
    "    accuracy = (1 - diff) * 100\n",
    "    \n",
    "    return {'w1': w1, 'w2': w2, 'b': b, 'costs': costs, 'accuracy': accuracy}\n",
    "\n",
    "results = train()"
   ]
  },
  {
   "cell_type": "code",
   "execution_count": 4,
   "metadata": {},
   "outputs": [],
   "source": [
    "def prediction(x,y):\n",
    "    result = train()\n",
    "    weight1 = result['w1']\n",
    "    weight2 = result['w2']\n",
    "    const = result['b']\n",
    "    z = weight1 * x + weight2 * y + const\n",
    "    pred = sigmoid(z) # Final prediction\n",
    "    accuracy = result['accuracy']\n",
    "    print(\"Prediction: {} ---> {}, with an accuracy of {}%\".format(pred,int(round(pred)),accuracy))\n",
    "    return(pred)"
   ]
  },
  {
   "cell_type": "code",
   "execution_count": 5,
   "metadata": {},
   "outputs": [
    {
     "data": {
      "image/png": "[encoded data removed]",
      "text/plain": [
       "<Figure size 432x288 with 1 Axes>"
      ]
     },
     "metadata": {
      "needs_background": "light"
     },
     "output_type": "display_data"
    },
    {
     "data": {
      "image/png": "[encoded data removed]",
      "text/plain": [
       "<Figure size 432x288 with 1 Axes>"
      ]
     },
     "metadata": {
      "needs_background": "light"
     },
     "output_type": "display_data"
    }
   ],
   "source": [
    "graphs()"
   ]
  },
  {
   "cell_type": "code",
   "execution_count": 6,
   "metadata": {},
   "outputs": [
    {
     "name": "stdout",
     "output_type": "stream",
     "text": [
      "Prediction: 0.9999999998638189 ---> 1, with an accuracy of 94.38084124090325%\n"
     ]
    },
    {
     "data": {
      "text/plain": [
       "0.9999999998638189"
      ]
     },
     "execution_count": 6,
     "metadata": {},
     "output_type": "execute_result"
    }
   ],
   "source": [
    "i = 6\n",
    "prediction(test_data[i][0],test_data[i][1])"
   ]
  },
  {
   "cell_type": "code",
   "execution_count": 7,
   "metadata": {},
   "outputs": [],
   "source": [
    "x = np.linspace(0, 10, 1000)\n"
   ]
  },
  {
   "cell_type": "code",
   "execution_count": null,
   "metadata": {},
   "outputs": [],
   "source": []
  }
 ],
 "metadata": {
  "kernelspec": {
   "display_name": "Python 3",
   "language": "python",
   "name": "python3"
  },
  "language_info": {
   "codemirror_mode": {
    "name": "ipython",
    "version": 3
   },
   "file_extension": ".py",
   "mimetype": "text/x-python",
   "name": "python",
   "nbconvert_exporter": "python",
   "pygments_lexer": "ipython3",
   "version": "3.8.8"
  }
 },
 "nbformat": 4,
 "nbformat_minor": 2
}
